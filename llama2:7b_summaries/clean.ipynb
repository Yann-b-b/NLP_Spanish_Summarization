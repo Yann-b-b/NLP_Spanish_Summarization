{
 "cells": [
  {
   "cell_type": "code",
   "execution_count": 2,
   "metadata": {},
   "outputs": [
    {
     "name": "stdout",
     "output_type": "stream",
     "text": [
      "Cleaned CSV saved. Rows kept: 4471\n"
     ]
    }
   ],
   "source": [
    "import pandas as pd\n",
    "\n",
    "def clean_csv(input_csv, output_csv):\n",
    "    df = pd.read_csv(input_csv)\n",
    "\n",
    "    # Drop rows with NaNs or empty cells in either column\n",
    "    df_cleaned = df.dropna(subset=['document', 'summary'])\n",
    "    df_cleaned = df_cleaned[\n",
    "        (df_cleaned['document'].str.strip() != '') &\n",
    "        (df_cleaned['summary'].str.strip() != '')\n",
    "    ]\n",
    "\n",
    "    df_cleaned.to_csv(output_csv, index=False, encoding='utf-8')\n",
    "    print(f\"Cleaned CSV saved. Rows kept: {len(df_cleaned)}\")\n",
    "\n",
    "# Example usage:\n",
    "clean_csv(\"biographies_summaries.csv\", \"cleaned_biographies_summaries.csv\")\n"
   ]
  },
  {
   "cell_type": "code",
   "execution_count": null,
   "metadata": {},
   "outputs": [],
   "source": []
  }
 ],
 "metadata": {
  "kernelspec": {
   "display_name": "x",
   "language": "python",
   "name": "python3"
  },
  "language_info": {
   "codemirror_mode": {
    "name": "ipython",
    "version": 3
   },
   "file_extension": ".py",
   "mimetype": "text/x-python",
   "name": "python",
   "nbconvert_exporter": "python",
   "pygments_lexer": "ipython3",
   "version": "3.10.16"
  }
 },
 "nbformat": 4,
 "nbformat_minor": 2
}
