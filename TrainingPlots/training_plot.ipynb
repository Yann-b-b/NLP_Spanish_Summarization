{
 "cells": [
  {
   "cell_type": "code",
   "execution_count": 1,
   "metadata": {},
   "outputs": [],
   "source": [
    "import matplotlib.pyplot as plt\n",
    "\n",
    "# Data for the loss values per epoch for each model\n",
    "epochs_gpt_neo = [0.2, 0.4, 0.61, 0.81, 1.01, 1.21, 1.41, 1.61, 1.82, 2.02, 2.22, 2.42, 2.62, 2.82]\n",
    "loss_gpt_neo = [2.8453, 2.7111, 2.671, 2.6379, 2.5918, 2.5999, 2.5798, 2.5583, 2.5706, 2.5879, 2.534, 2.5579, 2.6053, 2.5747]\n",
    "\n",
    "epochs_phi = [0.2, 0.4, 0.61, 0.81, 1.01, 1.21, 1.41, 1.61, 1.82]\n",
    "loss_phi = [3.0308, 2.6769, 2.5492, 2.4394, 2.3584, 2.3079, 2.2858, 2.2218, 2.213]\n",
    "\n",
    "epochs_tinyllama = [0.2, 0.4, 0.61, 0.81, 1.01, 1.21, 1.41, 1.61, 1.82]\n",
    "loss_tinyllama = [1.4853, 1.4318, 1.4341, 1.403, 1.3781, 1.322, 1.3259, 1.2984, 1.2953]\n",
    "\n",
    "epochs_phi3_mini = [0.2, 0.4, 0.61, 0.81, 1.01, 1.21, 1.41, 1.61, 1.82]\n",
    "loss_phi3_mini = [1.2748, 1.2262, 1.2329, 1.2016, 1.1674, 1.1348, 1.1378, 1.1142, 1.1085]\n",
    "\n",
    "# Function to plot and save each loss curve\n",
    "def plot_and_save(epochs, loss, model_name):\n",
    "    plt.figure(figsize=(6, 4))\n",
    "    plt.plot(epochs, loss, marker='o', linestyle='-', label=model_name)\n",
    "    plt.xlabel(\"Epochs\")\n",
    "    plt.ylabel(\"Loss\")\n",
    "    plt.title(f\"Training Loss for {model_name}\")\n",
    "    plt.legend()\n",
    "    plt.grid(True)\n",
    "    plt.savefig(f\"{model_name}_loss_plot.png\")\n",
    "    plt.close()\n",
    "\n",
    "# Generate and save plots\n",
    "plot_and_save(epochs_gpt_neo, loss_gpt_neo, \"GPT-Neo-125M\")\n",
    "plot_and_save(epochs_phi, loss_phi, \"Phi-1.5B\")\n",
    "plot_and_save(epochs_tinyllama, loss_tinyllama, \"TinyLlama-1.1B\")\n",
    "plot_and_save(epochs_phi3_mini, loss_phi3_mini, \"Phi-3-Mini-4K-Instruct\")\n"
   ]
  },
  {
   "cell_type": "code",
   "execution_count": null,
   "metadata": {},
   "outputs": [],
   "source": []
  }
 ],
 "metadata": {
  "kernelspec": {
   "display_name": "w",
   "language": "python",
   "name": "python3"
  },
  "language_info": {
   "codemirror_mode": {
    "name": "ipython",
    "version": 3
   },
   "file_extension": ".py",
   "mimetype": "text/x-python",
   "name": "python",
   "nbconvert_exporter": "python",
   "pygments_lexer": "ipython3",
   "version": "3.12.9"
  }
 },
 "nbformat": 4,
 "nbformat_minor": 2
}
