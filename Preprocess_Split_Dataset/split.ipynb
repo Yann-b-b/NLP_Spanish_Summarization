{
 "cells": [
  {
   "cell_type": "code",
   "execution_count": 1,
   "metadata": {},
   "outputs": [
    {
     "name": "stdout",
     "output_type": "stream",
     "text": [
      "CSV split into 3 parts successfully!\n"
     ]
    }
   ],
   "source": [
    "import pandas as pd\n",
    "\n",
    "# Load full CSV\n",
    "df = pd.read_csv(\"biographies.csv\")\n",
    "\n",
    "# Split into 3 equal parts\n",
    "df_split = [df.iloc[i::3] for i in range(3)]\n",
    "\n",
    "# Save splits\n",
    "df_split[0].to_csv(\"biographies_part1.csv\", index=False)\n",
    "df_split[1].to_csv(\"biographies_part2.csv\", index=False)\n",
    "df_split[2].to_csv(\"biographies_part3.csv\", index=False)\n",
    "\n",
    "print(\"CSV split into 3 parts successfully!\")\n",
    "\n"
   ]
  },
  {
   "cell_type": "code",
   "execution_count": null,
   "metadata": {},
   "outputs": [],
   "source": []
  }
 ],
 "metadata": {
  "kernelspec": {
   "display_name": "x",
   "language": "python",
   "name": "python3"
  },
  "language_info": {
   "codemirror_mode": {
    "name": "ipython",
    "version": 3
   },
   "file_extension": ".py",
   "mimetype": "text/x-python",
   "name": "python",
   "nbconvert_exporter": "python",
   "pygments_lexer": "ipython3",
   "version": "3.10.16"
  }
 },
 "nbformat": 4,
 "nbformat_minor": 2
}
