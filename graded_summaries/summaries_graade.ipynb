{
 "cells": [
  {
   "cell_type": "code",
   "execution_count": 1,
   "metadata": {},
   "outputs": [
    {
     "name": "stdout",
     "output_type": "stream",
     "text": [
      "Graphs saved for both models.\n"
     ]
    }
   ],
   "source": [
    "import pandas as pd\n",
    "import matplotlib.pyplot as plt\n",
    "\n",
    "# File paths for the two CSVs\n",
    "file_paths = [\n",
    "    \"graded_test_summaries_GPT-Neo-125M.csv\",\n",
    "    \"graded_test_summaries_Phi-1.5B.csv\"\n",
    "]\n",
    "\n",
    "# Titles for plots\n",
    "titles = [\"GPT-Neo-125M Grade Distribution\", \"Phi-1.5B Grade Distribution\"]\n",
    "\n",
    "# Generate and save plots\n",
    "for i, file in enumerate(file_paths):\n",
    "    # Load CSV\n",
    "    df = pd.read_csv(file)\n",
    "\n",
    "    # Extract grades and calculate percentages\n",
    "    grade_counts = df[\"grade\"].value_counts(normalize=True).sort_index() * 100  \n",
    "\n",
    "    # Create plot\n",
    "    plt.figure(figsize=(8, 5))\n",
    "    plt.bar(grade_counts.index, grade_counts.values, color='blue', alpha=0.7)\n",
    "    plt.xlabel(\"Grade (1 to 5)\")\n",
    "    plt.ylabel(\"Percentage of Total Grades (%)\")\n",
    "    plt.ylim(0, 100)\n",
    "    plt.title(titles[i])\n",
    "    plt.xticks(range(1, 6))\n",
    "    plt.grid(axis=\"y\", linestyle=\"--\", alpha=0.7)\n",
    "\n",
    "    # Save plot\n",
    "    plot_path = f\"grade_distribution_{titles[i].replace(' ', '_')}.png\"\n",
    "    plt.savefig(plot_path, dpi=300, bbox_inches=\"tight\")\n",
    "    plt.close()\n",
    "\n",
    "print(\"Graphs saved for both models.\")\n"
   ]
  },
  {
   "cell_type": "code",
   "execution_count": null,
   "metadata": {},
   "outputs": [],
   "source": []
  }
 ],
 "metadata": {
  "kernelspec": {
   "display_name": "x",
   "language": "python",
   "name": "python3"
  },
  "language_info": {
   "codemirror_mode": {
    "name": "ipython",
    "version": 3
   },
   "file_extension": ".py",
   "mimetype": "text/x-python",
   "name": "python",
   "nbconvert_exporter": "python",
   "pygments_lexer": "ipython3",
   "version": "3.10.16"
  }
 },
 "nbformat": 4,
 "nbformat_minor": 2
}
